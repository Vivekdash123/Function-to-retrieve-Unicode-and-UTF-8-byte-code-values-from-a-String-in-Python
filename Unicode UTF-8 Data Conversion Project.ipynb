{
 "cells": [
  {
   "cell_type": "code",
   "execution_count": 1,
   "id": "71353d18-6848-4833-8fbc-20528940635b",
   "metadata": {},
   "outputs": [
    {
     "name": "stdin",
     "output_type": "stream",
     "text": [
      "Enter a string:  Vivek\n"
     ]
    },
    {
     "name": "stdout",
     "output_type": "stream",
     "text": [
      "\n",
      "Unicode and UTF-8 byte values for each character:\n",
      "Character: 'V'\n",
      "Unicode Code Point: 86\n",
      "UTF-8 Byte Value: 86\n",
      "----------------------------------------\n",
      "Character: 'i'\n",
      "Unicode Code Point: 105\n",
      "UTF-8 Byte Value: 105\n",
      "----------------------------------------\n",
      "Character: 'v'\n",
      "Unicode Code Point: 118\n",
      "UTF-8 Byte Value: 118\n",
      "----------------------------------------\n",
      "Character: 'e'\n",
      "Unicode Code Point: 101\n",
      "UTF-8 Byte Value: 101\n",
      "----------------------------------------\n",
      "Character: 'k'\n",
      "Unicode Code Point: 107\n",
      "UTF-8 Byte Value: 107\n",
      "----------------------------------------\n"
     ]
    }
   ],
   "source": [
    "# Function to convert a string into UTF-8 and display the Unicode and UTF-8 byte values\n",
    "def unicode_utf8_converter():\n",
    "    # Get user input\n",
    "    user_input = input(\"Enter a string: \")\n",
    "    \n",
    "    # Convert the string to a UTF-8 encoded byte object\n",
    "    utf8_encoded = user_input.encode('utf-8')\n",
    "    \n",
    "    print(\"\\nUnicode and UTF-8 byte values for each character:\")\n",
    "    \n",
    "    # Loop through each character in the string\n",
    "    for char, byte in zip(user_input, utf8_encoded):\n",
    "        print(f\"Character: '{char}'\")\n",
    "        print(f\"Unicode Code Point: {ord(char)}\")\n",
    "        print(f\"UTF-8 Byte Value: {byte}\")\n",
    "        print(\"-\" * 40)\n",
    "\n",
    "# Run the function\n",
    "unicode_utf8_converter()"
   ]
  }
 ],
 "metadata": {
  "kernelspec": {
   "display_name": "Python 3 (ipykernel)",
   "language": "python",
   "name": "python3"
  },
  "language_info": {
   "codemirror_mode": {
    "name": "ipython",
    "version": 3
   },
   "file_extension": ".py",
   "mimetype": "text/x-python",
   "name": "python",
   "nbconvert_exporter": "python",
   "pygments_lexer": "ipython3",
   "version": "3.12.3"
  }
 },
 "nbformat": 4,
 "nbformat_minor": 5
}
